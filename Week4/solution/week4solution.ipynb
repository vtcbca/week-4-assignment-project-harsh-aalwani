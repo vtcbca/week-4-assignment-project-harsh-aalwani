{
 "cells": [
  {
   "cell_type": "markdown",
   "id": "2b456623",
   "metadata": {},
   "source": [
    "### Connecting to database"
   ]
  },
  {
   "cell_type": "code",
   "execution_count": 1,
   "id": "173f5ffa",
   "metadata": {},
   "outputs": [],
   "source": [
    "def createConnect():\n",
    "    conn=sq.connect(\"D:\\\\python\\\\contactmgmt.db\")\n",
    "    cur=conn.cursor()\n",
    "    conn.commit()\n",
    "    return conn"
   ]
  },
  {
   "cell_type": "markdown",
   "id": "b37b73a5",
   "metadata": {},
   "source": [
    "### Creating table"
   ]
  },
  {
   "cell_type": "code",
   "execution_count": 2,
   "id": "cd6468d7",
   "metadata": {},
   "outputs": [],
   "source": [
    "def createTable(conn):\n",
    "    cur=conn.cursor()\n",
    "    cur.execute(\"CREATE TABLE CONTACT(fname text, laname text, contact numeric, email text, city text);\")\n",
    "    conn.commit()"
   ]
  },
  {
   "cell_type": "markdown",
   "id": "47a6c4d5",
   "metadata": {},
   "source": [
    "### Creating Log table"
   ]
  },
  {
   "cell_type": "code",
   "execution_count": 3,
   "id": "2c929bef",
   "metadata": {},
   "outputs": [],
   "source": [
    "def createLog(conn):\n",
    "    cur=conn.cursor()\n",
    "    cur.execute(\"\"\"CREATE TABLE IF NOT EXISTS CONTACT_log\n",
    "        (\n",
    "        fname text,\n",
    "        lname text,\n",
    "        contact integer,\n",
    "        datetime text,\n",
    "        operation_performed text\n",
    "        );\"\"\")             #creating log table\n",
    "    conn.commit()"
   ]
  },
  {
   "cell_type": "markdown",
   "id": "4f63dadc",
   "metadata": {},
   "source": [
    "### Creating Triggers for Log table"
   ]
  },
  {
   "cell_type": "code",
   "execution_count": 4,
   "id": "f7404884",
   "metadata": {},
   "outputs": [],
   "source": [
    "def logTrigger(conn):\n",
    "    cur=conn.cursor()\n",
    "    cur.execute(\"\"\"CREATE TRIGGER IF NOT EXISTS insertLogTrigger\n",
    "                        after insert\n",
    "                        on contact\n",
    "                        BEGIN\n",
    "                            INSERT INTO CONTACT_log\n",
    "                            VALUES(new.fname,new.laname,new.contact,datetime('now','localtime'),'INSERT');\n",
    "                        END;\"\"\")\n",
    "    cur.execute(\"\"\"CREATE TRIGGER IF NOT EXISTS deleteLogTrigger\n",
    "                        after delete \n",
    "                        on contact\n",
    "                        BEGIN\n",
    "                            INSERT INTO CONTACT_log\n",
    "                            VALUES(old.fname,old.laname,old.contact,datetime('now','localtime'),'DELETE');\n",
    "                        END;\"\"\")\n",
    "    cur.execute(\"\"\"CREATE TRIGGER IF NOT EXISTS updateLogTrigger\n",
    "                        after update\n",
    "                        on contact\n",
    "                        BEGIN\n",
    "                            INSERT INTO CONTACT_log\n",
    "                            VALUES(new.fname,new.laname,new.contact,datetime('now','localtime'),'After UPDATE');\n",
    "                            INSERT INTO CONTACT_log\n",
    "                            VALUES(old.fname,old.laname,old.contact,datetime('now','localtime'),'Before UPDATE');\n",
    "                        END;\"\"\")\n",
    "    conn.commit()"
   ]
  },
  {
   "cell_type": "markdown",
   "id": "2654b5fe",
   "metadata": {},
   "source": [
    "### Creating Validating Trigger"
   ]
  },
  {
   "cell_type": "code",
   "execution_count": 5,
   "id": "ced74b9f",
   "metadata": {},
   "outputs": [],
   "source": [
    "def createTrigger(conn):\n",
    "    cur=conn.cursor()\n",
    "    conn.execute(\"\"\"CREATE TRIGGER validate_field \n",
    "    BEFORE INSERT\n",
    "    ON CONTACT\n",
    "    BEGIN\n",
    "    SELECT\n",
    "    CASE\n",
    "    WHEN new.email NOT LIKE '%@%.%' THEN\n",
    "        RAISE(ABORT,'Please enter email in correct format')\n",
    "    WHEN length(new.contact)<10 THEN\n",
    "        RAISE(ABORT,'Ivalid Contact Number. Please enter correct number.')\\\n",
    "    END;\n",
    "    END;\"\"\")            #validating email format and contact number\n",
    "    conn.commit()"
   ]
  },
  {
   "cell_type": "markdown",
   "id": "71ef3f08",
   "metadata": {},
   "source": [
    "### Inserting records"
   ]
  },
  {
   "cell_type": "code",
   "execution_count": 6,
   "id": "7c28d246",
   "metadata": {},
   "outputs": [],
   "source": [
    "def insertRecords(conn):\n",
    "    cur=conn.cursor()\n",
    "    fname=input(\"\\n\\nEnter first name: \")\n",
    "    lname=input(\"Enter last name: \")\n",
    "    contact=int(input(\"Enter contact: \"))\n",
    "    email=input(\"Enter email:\")\n",
    "    city=input(\"Enter city: \")\n",
    "    L=[fname,lname,contact,email,city]\n",
    "    conn.execute(\"INSERT INTO CONTACT VALUES(?,?,?,?,?);\",L)\n",
    "    print('\\n\\nContact inserted sucessfully.\\n')\n",
    "    conn.commit()"
   ]
  },
  {
   "cell_type": "markdown",
   "id": "a3af2624",
   "metadata": {},
   "source": [
    "### Updating Records"
   ]
  },
  {
   "cell_type": "code",
   "execution_count": 7,
   "id": "ec5e4a27",
   "metadata": {},
   "outputs": [],
   "source": [
    "def updateContacts(conn):\n",
    "    cur=conn.cursor()\n",
    "    name_search=input(\"\\n\\nEnter their First name: \")\n",
    "    new_contact=input(\"Enter New Contact No :\")\n",
    "    cur.execute(f\"update CONTACT set contact='{new_contact}' where fname='{name_search}'\")\n",
    "    print(\"\\n\\nContact updated successfully.\\n\")\n",
    "    conn.commit()"
   ]
  },
  {
   "cell_type": "markdown",
   "id": "37bb7ff1",
   "metadata": {},
   "source": [
    "### Deleting Records"
   ]
  },
  {
   "cell_type": "code",
   "execution_count": 8,
   "id": "172294cc",
   "metadata": {},
   "outputs": [],
   "source": [
    "def deleteContacts(conn):\n",
    "    cur=conn.cursor()\n",
    "    name_search=input(\"\\n\\nEnter their First Name: \")\n",
    "    cur.execute(f\"delete from CONTACT where fname='{name_search}'\")\n",
    "    print(\"\\n\\nContact deleted successfully.\\n\")\n",
    "    conn.commit()"
   ]
  },
  {
   "cell_type": "markdown",
   "id": "a4719014",
   "metadata": {},
   "source": [
    "### Searching Records"
   ]
  },
  {
   "cell_type": "code",
   "execution_count": 9,
   "id": "b391138c",
   "metadata": {},
   "outputs": [],
   "source": [
    "def searchContacts(conn):\n",
    "    cur=conn.cursor()\n",
    "    name_search=input(\"\\n\\nEnter their First Name: \")\n",
    "    cur.execute(f\"select * from CONTACT where fname='{name_search}'\")\n",
    "    records=cur.fetchall()\n",
    "    print('\\n____________________________________________________________________________________')\n",
    "    print('Fname\\tLaname\\tContact\\t\\tEmail\\t\\t\\tCity')\n",
    "    print('______________________________________________________________________________________')\n",
    "    for rows in records:\n",
    "        print('{}\\t{}\\t{}\\t{}\\t{}'.format(rows[0],rows[1],rows[2],rows[3],rows[4]))       #all records will be shown\n",
    "    print('\\n\\nThis are all available records\\n')\n",
    "    conn.commit()"
   ]
  },
  {
   "cell_type": "markdown",
   "id": "03f9a6d6",
   "metadata": {},
   "source": [
    "### Viewing All Records"
   ]
  },
  {
   "cell_type": "code",
   "execution_count": 10,
   "id": "4a6473d0",
   "metadata": {},
   "outputs": [],
   "source": [
    "def viewRecords(conn):\n",
    "    cur=conn.cursor()\n",
    "    cur.execute('select * from CONTACT')\n",
    "    records=cur.fetchall()\n",
    "    print('\\n____________________________________________________________________________________')\n",
    "    print('Fname\\tLaname\\tContact\\t\\tEmail\\t\\t\\tCity')\n",
    "    print('______________________________________________________________________________________')\n",
    "    for rows in records:\n",
    "        print('{}\\t{}\\t{}\\t{}\\t{}'.format(rows[0],rows[1],rows[2],rows[3],rows[4]))       #all records will be shown\n",
    "    print('\\n\\nThis are all available records')\n",
    "    conn.commit()"
   ]
  },
  {
   "cell_type": "markdown",
   "id": "fd95c7ec",
   "metadata": {},
   "source": [
    "### Operating Function"
   ]
  },
  {
   "cell_type": "code",
   "execution_count": 11,
   "id": "89d07810",
   "metadata": {},
   "outputs": [],
   "source": [
    "def operationFunct():\n",
    "    conn=createConnect()\n",
    "    createTable(conn)\n",
    "    createLog(conn)\n",
    "    createTrigger(conn)\n",
    "    logTrigger(conn)\n",
    "    choice=1\n",
    "    while choice!=0:\n",
    "        print('\\n-------------------------------------------------------------------------------------------------')\n",
    "        print('1- Insert contacts')\n",
    "        print('2- Update contacts')\n",
    "        print('3- Delete contacts')\n",
    "        print('4- Search contacts')\n",
    "        print('5- View all records')\n",
    "        print('0- Exit the program')\n",
    "        choice=int(input('\\nEnter your choice: '))      #choosing operations\n",
    "        if choice==1:\n",
    "            insertRecords(conn)       #directly calling function\n",
    "        elif choice==2:\n",
    "            updateContacts(conn)       #directly calling function\n",
    "        elif choice==3:\n",
    "            deleteContacts(conn)       #directly calling function\n",
    "        elif choice==4:\n",
    "            searchContacts(conn)       #directly calling function\n",
    "        elif choice==5:\n",
    "            viewRecords(conn)       #directly calling function\n",
    "    conn.close()"
   ]
  },
  {
   "cell_type": "code",
   "execution_count": 12,
   "id": "6e9b85bc",
   "metadata": {},
   "outputs": [
    {
     "name": "stdout",
     "output_type": "stream",
     "text": [
      "\n",
      "-------------------------------------------------------------------------------------------------\n",
      "1- Insert contacts\n",
      "2- Update contacts\n",
      "3- Delete contacts\n",
      "4- Search contacts\n",
      "5- View all records\n",
      "0- Exit the program\n",
      "\n",
      "Enter your choice: 1\n",
      "\n",
      "\n",
      "Enter first name: Harsh\n",
      "Enter last name: Aalwani\n",
      "Enter contact: 1234567891\n",
      "Enter email:xyz@gmail.com\n",
      "Enter city: surat\n",
      "\n",
      "\n",
      "Contact inserted sucessfully.\n",
      "\n",
      "\n",
      "-------------------------------------------------------------------------------------------------\n",
      "1- Insert contacts\n",
      "2- Update contacts\n",
      "3- Delete contacts\n",
      "4- Search contacts\n",
      "5- View all records\n",
      "0- Exit the program\n",
      "\n",
      "Enter your choice: 1\n",
      "\n",
      "\n",
      "Enter first name: Rajesh\n",
      "Enter last name: Sharma\n",
      "Enter contact: 9876543210\n",
      "Enter email:abc@gmail.com\n",
      "Enter city: surat\n",
      "\n",
      "\n",
      "Contact inserted sucessfully.\n",
      "\n",
      "\n",
      "-------------------------------------------------------------------------------------------------\n",
      "1- Insert contacts\n",
      "2- Update contacts\n",
      "3- Delete contacts\n",
      "4- Search contacts\n",
      "5- View all records\n",
      "0- Exit the program\n",
      "\n",
      "Enter your choice: 5\n",
      "\n",
      "____________________________________________________________________________________\n",
      "Fname\tLaname\tContact\t\tEmail\t\t\tCity\n",
      "______________________________________________________________________________________\n",
      "Harsh\tAalwani\t1234567891\txyz@gmail.com\tsurat\n",
      "Rajesh\tSharma\t9876543210\tabc@gmail.com\tsurat\n",
      "\n",
      "\n",
      "This are all available records\n",
      "\n",
      "-------------------------------------------------------------------------------------------------\n",
      "1- Insert contacts\n",
      "2- Update contacts\n",
      "3- Delete contacts\n",
      "4- Search contacts\n",
      "5- View all records\n",
      "0- Exit the program\n",
      "\n",
      "Enter your choice: 2\n",
      "\n",
      "\n",
      "Enter their First name: Rajesh\n",
      "Enter New Contact No :9999988888\n",
      "\n",
      "\n",
      "Contact updated successfully.\n",
      "\n",
      "\n",
      "-------------------------------------------------------------------------------------------------\n",
      "1- Insert contacts\n",
      "2- Update contacts\n",
      "3- Delete contacts\n",
      "4- Search contacts\n",
      "5- View all records\n",
      "0- Exit the program\n",
      "\n",
      "Enter your choice: 4\n",
      "\n",
      "\n",
      "Enter their First Name: Rajesh\n",
      "\n",
      "____________________________________________________________________________________\n",
      "Fname\tLaname\tContact\t\tEmail\t\t\tCity\n",
      "______________________________________________________________________________________\n",
      "Rajesh\tSharma\t9999988888\tabc@gmail.com\tsurat\n",
      "\n",
      "\n",
      "This are all available records\n",
      "\n",
      "\n",
      "-------------------------------------------------------------------------------------------------\n",
      "1- Insert contacts\n",
      "2- Update contacts\n",
      "3- Delete contacts\n",
      "4- Search contacts\n",
      "5- View all records\n",
      "0- Exit the program\n",
      "\n",
      "Enter your choice: 3\n",
      "\n",
      "\n",
      "Enter their First Name: Harsh\n",
      "\n",
      "\n",
      "Contact deleted successfully.\n",
      "\n",
      "\n",
      "-------------------------------------------------------------------------------------------------\n",
      "1- Insert contacts\n",
      "2- Update contacts\n",
      "3- Delete contacts\n",
      "4- Search contacts\n",
      "5- View all records\n",
      "0- Exit the program\n",
      "\n",
      "Enter your choice: 5\n",
      "\n",
      "____________________________________________________________________________________\n",
      "Fname\tLaname\tContact\t\tEmail\t\t\tCity\n",
      "______________________________________________________________________________________\n",
      "Rajesh\tSharma\t9999988888\tabc@gmail.com\tsurat\n",
      "\n",
      "\n",
      "This are all available records\n",
      "\n",
      "-------------------------------------------------------------------------------------------------\n",
      "1- Insert contacts\n",
      "2- Update contacts\n",
      "3- Delete contacts\n",
      "4- Search contacts\n",
      "5- View all records\n",
      "0- Exit the program\n",
      "\n",
      "Enter your choice: 6\n",
      "\n",
      "-------------------------------------------------------------------------------------------------\n",
      "1- Insert contacts\n",
      "2- Update contacts\n",
      "3- Delete contacts\n",
      "4- Search contacts\n",
      "5- View all records\n",
      "0- Exit the program\n",
      "\n",
      "Enter your choice: 0\n"
     ]
    }
   ],
   "source": [
    "import sqlite3 as sq     #importing sqlite3 module\n",
    "operationFunct()       #directing calling function"
   ]
  },
  {
   "cell_type": "markdown",
   "id": "e8324a6b",
   "metadata": {},
   "source": [
    "#### Developed by Harsh U. Aalwani"
   ]
  }
 ],
 "metadata": {
  "kernelspec": {
   "display_name": "Python 3 (ipykernel)",
   "language": "python",
   "name": "python3"
  },
  "language_info": {
   "codemirror_mode": {
    "name": "ipython",
    "version": 3
   },
   "file_extension": ".py",
   "mimetype": "text/x-python",
   "name": "python",
   "nbconvert_exporter": "python",
   "pygments_lexer": "ipython3",
   "version": "3.11.4"
  }
 },
 "nbformat": 4,
 "nbformat_minor": 5
}
